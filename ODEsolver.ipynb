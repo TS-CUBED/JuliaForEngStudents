{
 "cells": [
  {
   "cell_type": "markdown",
   "id": "4120409a",
   "metadata": {},
   "source": [
    "# Solving ODEs and ODE systems\n",
    "\n",
    "Solving Ordinary Differential Equations is one of the most common use cases for scientific computing in engineering applications. \n",
    "\n",
    "The Julia package [DifferentialEquations.jl](https://docs.sciml.ai/DiffEqDocs/stable/) is one of the biggest selling points of the language. It offers an unparalled range of solvers, all using the same interface^[So changing the solver does not require any changes in the definition of the problem, even when moving between ODEs, DAEs and SDAEs.].\n",
    "\n",
    "## Example: 4-Element Windkessel Model\n",
    "\n",
    "\n",
    "\n",
    "\n",
    "{{< downloadthis ODEsolver.ipynb dname=ODEsolver label=\"Download Jupyter Notebook\" >}}\n",
    "\n",
    "\n",
    "\n",
    "\n",
    "\n",
    "\n",
    "\n",
    "The windkessel model is a common model for the pressure response of the vascular system (blood circulation) to a periodic, pulsing flow waveform [@Westerhof2019].\n",
    "\n",
    "Here we are going to work with the 4-Element windkessel model [@Stergiopulos1999], comprising a flow source (time dependent flow rate), two resistors for characteristic Resistance of the near vessel (aorta), $R_{c}$, and systemic (peripheral) resistance, $R_{p}$, a compliance (capacitance) $C$, representing the blood storage capacity of the peripheral vessels, and an inductance $L_p$, representing the inertia in the proximal, large vessel, e.g., the aorta.\n",
    "\n",
    "The pressures in this circuit - $p_{1}$ before, and $p_{2}$ after the proximal L-R element - are described by the system of ODEs:\n",
    "\n",
    "$$\n",
    "\\frac{d p_{1}}{d t}  =  - \\frac{R_{c}}{L_{p}} p_{1} + \\left( \\frac{R_{c}}{L_{p}} - \\frac{1}{R_{p} C} \\right) p_{2} \\\\\n",
    "+ R_{c} \\frac{d I(t)}{d t} + \\frac{I(t)}{C} \n",
    "$$ {#eq-wk4-1}\n",
    "\n",
    "$$\n",
    "\\frac{d p_{2}}{d t}  =  - \\frac{1}{R_{p} C} p_{2} + \\frac{I(t)}{C} \n",
    "$$ {#eq-wk4-2}\n",
    "\n",
    "<!-- Source: file:///home/thor/Documents/Research/SaxtonPhD/0D-ModellingInJulia_files/images/wk4.drawio.png, accessed: Sun Mar  5 16:01:01 2023 -->\n",
    "![4-Element Windkessel Model](./images/images_for_ODEsolver.qmd/wk4.drawio.png){#fig-4wk}\n",
    "\n",
    "In order to implement this model, we need to load the required modules. We use `DifferentialEquations`, `Plots`, and `ForwardDiff` for the time-derivative $\\frac{\\partial I}{\\partial t}$:\n"
   ]
  },
  {
   "cell_type": "code",
   "execution_count": 2,
   "id": "6e683e86",
   "metadata": {},
   "outputs": [],
   "source": [
    "using DifferentialEquations, ForwardDiff, Plots"
   ]
  },
  {
   "cell_type": "code",
   "execution_count": 3,
   "id": "c4aa0155",
   "metadata": {},
   "outputs": [],
   "source": [
    "#| echo: false\n",
    "#| output: false\n",
    "\n",
    "plotlyjs();"
   ]
  },
  {
   "cell_type": "markdown",
   "id": "47190b2a",
   "metadata": {},
   "source": [
    "The input waveform is a generic half-period of a sine-wave with a systolic (ejection) time of $t_{syst} = 0.4 T$, with $T=1\\ \\mathrm{s}$ period-time (60 beats per minute). The dicrotic notch is modelled by running the sine into the negative for $t_{dicr} = 0.03\\ \\mathrm{s}$:\n",
    "\n",
    "\\begin{equation}\n",
    "    I = \n",
    "    \\begin{cases}\n",
    "        I_{min} + (I_{max} - I_{min})  \\sin \\left(\\frac{\\pi}{t_{syst}} t \\right) & \\text{if } t \\lt (t_{syst} + t_{dicr})\\\\\n",
    "        I_{min} & \\text{else} \n",
    "    \\end{cases}\n",
    "\\end{equation}\n",
    "\n",
    "\n",
    "In Julia, this function is implemented as^[Note that we use `const` here to define the parameters. Julia does suffer in performance, when global variables are used, since these break type stability in the multiple dispatch. Making these parameter constant fixes their type. We should really be using these parameters in the function definition, or use a lambda function here.]:\n"
   ]
  },
  {
   "cell_type": "code",
   "execution_count": 4,
   "id": "bdf99338",
   "metadata": {},
   "outputs": [
    {
     "data": {
      "text/plain": [
       "I (generic function with 1 method)"
      ]
     },
     "execution_count": 15,
     "metadata": {},
     "output_type": "execute_result"
    }
   ],
   "source": [
    "#| output: false\n",
    " \n",
    "# max and min volume flow in ml/s\n",
    "const max_i = 425\n",
    "const min_i = 0.0\n",
    "\n",
    "# period time\n",
    "const T = 1.0\n",
    "\n",
    "# Syst. Time in s\n",
    "const systTime = 2 / 5 * T\n",
    "\n",
    "# Dicrotic notch time in s\n",
    "const dicrTime = 0.03\n",
    "\n",
    "function I(t)\n",
    "    # implicit conditional using boolean multiplicator\n",
    "    # sine waveform\n",
    "    t = t - T * (t ÷ T)\n",
    "\n",
    "    return ((max_i - min_i) * sin(pi / systTime * (t))\n",
    "            * (t < (systTime + dicrTime) )\n",
    "            + min_i)\n",
    "end"
   ]
  },
  {
   "cell_type": "markdown",
   "id": "787f4abb",
   "metadata": {},
   "source": [
    "We can quickly plot this function in @fig-igen.\n"
   ]
  },
  {
   "cell_type": "code",
   "execution_count": 5,
   "id": "fig-igen",
   "metadata": {},
   "outputs": [
    {
     "data": {
      "image/svg+xml": [
       "<svg class=\"main-svg\" xmlns=\"http://www.w3.org/2000/svg\" xmlns:xlink=\"http://www.w3.org/1999/xlink\" width=\"700\" height=\"500\" style=\"\" viewBox=\"0 0 700 500\"><rect x=\"0\" y=\"0\" width=\"700\" height=\"500\" style=\"fill: rgb(255, 255, 255); fill-opacity: 1;\"/><defs id=\"defs-8e3fb0\"><g class=\"clips\"><clipPath id=\"clip8e3fb0xyplot\" class=\"plotclip\"><rect width=\"555.5192319710036\" height=\"362.16138998250216\"/></clipPath><clipPath class=\"axesclip\" id=\"clip8e3fb0x\"><rect x=\"90.96558242719661\" y=\"0\" width=\"555.5192319710036\" height=\"500\"/></clipPath><clipPath class=\"axesclip\" id=\"clip8e3fb0y\"><rect x=\"0\" y=\"63.19881889763781\" width=\"700\" height=\"362.16138998250216\"/></clipPath><clipPath class=\"axesclip\" id=\"clip8e3fb0xy\"><rect x=\"90.96558242719661\" y=\"63.19881889763781\" width=\"555.5192319710036\" height=\"362.16138998250216\"/></clipPath></g><g class=\"gradients\"/></defs><g class=\"bglayer\"/><g class=\"layer-below\"><g class=\"imagelayer\"/><g class=\"shapelayer\"/></g><g class=\"cartesianlayer\"><g class=\"subplot xy\"><g class=\"layer-subplot\"><g class=\"shapelayer\"/><g class=\"imagelayer\"/></g><g class=\"gridlayer\"><g class=\"x\"><path class=\"xgrid crisp\" transform=\"translate(106.68558242719661,0)\" d=\"M0,63.19881889763781v362.16138998250216\" style=\"stroke: rgb(0, 0, 0); stroke-opacity: 0.1; stroke-width: 0.5px;\"/><path class=\"xgrid crisp\" transform=\"translate(237.70558242719662,0)\" d=\"M0,63.19881889763781v362.16138998250216\" style=\"stroke: rgb(0, 0, 0); stroke-opacity: 0.1; stroke-width: 0.5px;\"/><path class=\"xgrid crisp\" transform=\"translate(368.7255824271966,0)\" d=\"M0,63.19881889763781v362.16138998250216\" style=\"stroke: rgb(0, 0, 0); stroke-opacity: 0.1; stroke-width: 0.5px;\"/><path class=\"xgrid crisp\" transform=\"translate(499.7455824271966,0)\" d=\"M0,63.19881889763781v362.16138998250216\" style=\"stroke: rgb(0, 0, 0); stroke-opacity: 0.1; stroke-width: 0.5px;\"/><path class=\"xgrid crisp\" transform=\"translate(630.7655824271966,0)\" d=\"M0,63.19881889763781v362.16138998250216\" style=\"stroke: rgb(0, 0, 0); stroke-opacity: 0.1; stroke-width: 0.5px;\"/></g><g class=\"y\"><path class=\"ygrid crisp\" transform=\"translate(0,360.7388188976378)\" d=\"M90.96558242719661,0h555.5192319710036\" style=\"stroke: rgb(0, 0, 0); stroke-opacity: 0.1; stroke-width: 0.5px;\"/><path class=\"ygrid crisp\" transform=\"translate(0,293.1288188976378)\" d=\"M90.96558242719661,0h555.5192319710036\" style=\"stroke: rgb(0, 0, 0); stroke-opacity: 0.1; stroke-width: 0.5px;\"/><path class=\"ygrid crisp\" transform=\"translate(0,225.52881889763782)\" d=\"M90.96558242719661,0h555.5192319710036\" style=\"stroke: rgb(0, 0, 0); stroke-opacity: 0.1; stroke-width: 0.5px;\"/><path class=\"ygrid crisp\" transform=\"translate(0,157.9188188976378)\" d=\"M90.96558242719661,0h555.5192319710036\" style=\"stroke: rgb(0, 0, 0); stroke-opacity: 0.1; stroke-width: 0.5px;\"/><path class=\"ygrid crisp\" transform=\"translate(0,90.3088188976378)\" d=\"M90.96558242719661,0h555.5192319710036\" style=\"stroke: rgb(0, 0, 0); stroke-opacity: 0.1; stroke-width: 0.5px;\"/></g></g><g class=\"zerolinelayer\"/><path class=\"xlines-below\"/><path class=\"ylines-below\"/><g class=\"overlines-below\"/><g class=\"xaxislayer-below\"/><g class=\"yaxislayer-below\"/><g class=\"overaxes-below\"/><g class=\"plot\" transform=\"translate(90.96558242719661,63.19881889763781)\" clip-path=\"url('#clip8e3fb0xyplot')\"><g class=\"scatterlayer mlayer\"><g class=\"trace scatter traceadb2b6\" style=\"stroke-miterlimit: 2; opacity: 1;\"><g class=\"fills\"/><g class=\"errorbars\"/><g class=\"lines\"><path class=\"js-line\" d=\"M15.72,297.54L42.19,186.53L47.48,165.88L58.07,127.18L63.37,109.38L73.95,77.43L79.25,63.49L89.83,40.1L95.13,30.8L100.42,23.17L105.71,17.27L111.01,13.14L116.3,10.79L121.6,10.25L126.89,11.51L132.18,14.58L137.48,19.42L142.77,26.02L148.06,34.32L153.36,44.27L158.65,55.83L169.24,83.4L174.53,99.26L185.12,134.61L190.41,153.87L206.29,216.59L211.59,238.69L238.06,351.91L243.35,297.54L539.8,297.54\" style=\"vector-effect: non-scaling-stroke; fill: none; stroke: rgb(0, 154, 250); stroke-opacity: 1; stroke-width: 1px; opacity: 1;\"/></g><g class=\"points\"/><g class=\"text\"/></g></g></g><g class=\"overplot\"/><path class=\"xlines-above crisp\" d=\"M89.96558242719661,425.86020888013996H646.4848143982002\" style=\"fill: none; stroke-width: 1px; stroke: rgb(0, 0, 0); stroke-opacity: 1;\"/><path class=\"ylines-above crisp\" d=\"M90.46558242719661,63.19881889763781V425.36020888013996\" style=\"fill: none; stroke-width: 1px; stroke: rgb(0, 0, 0); stroke-opacity: 1;\"/><g class=\"overlines-above\"/><g class=\"xaxislayer-above\"><path class=\"xtick ticks crisp\" d=\"M0,425.36020888013996v-5\" transform=\"translate(106.68558242719661,0)\" style=\"stroke: rgb(0, 0, 0); stroke-opacity: 1; stroke-width: 1px;\"/><path class=\"xtick ticks crisp\" d=\"M0,425.36020888013996v-5\" transform=\"translate(237.70558242719662,0)\" style=\"stroke: rgb(0, 0, 0); stroke-opacity: 1; stroke-width: 1px;\"/><path class=\"xtick ticks crisp\" d=\"M0,425.36020888013996v-5\" transform=\"translate(368.7255824271966,0)\" style=\"stroke: rgb(0, 0, 0); stroke-opacity: 1; stroke-width: 1px;\"/><path class=\"xtick ticks crisp\" d=\"M0,425.36020888013996v-5\" transform=\"translate(499.7455824271966,0)\" style=\"stroke: rgb(0, 0, 0); stroke-opacity: 1; stroke-width: 1px;\"/><path class=\"xtick ticks crisp\" d=\"M0,425.36020888013996v-5\" transform=\"translate(630.7655824271966,0)\" style=\"stroke: rgb(0, 0, 0); stroke-opacity: 1; stroke-width: 1px;\"/><g class=\"xtick\"><text text-anchor=\"middle\" x=\"0\" y=\"439.56020888013995\" transform=\"translate(106.68558242719661,0)\" style=\"font-family: sans-serif; font-size: 11px; fill: rgb(0, 0, 0); fill-opacity: 1; white-space: pre;\">0.00</text></g><g class=\"xtick\"><text text-anchor=\"middle\" x=\"0\" y=\"439.56020888013995\" transform=\"translate(237.70558242719662,0)\" style=\"font-family: sans-serif; font-size: 11px; fill: rgb(0, 0, 0); fill-opacity: 1; white-space: pre;\">0.25</text></g><g class=\"xtick\"><text text-anchor=\"middle\" x=\"0\" y=\"439.56020888013995\" transform=\"translate(368.7255824271966,0)\" style=\"font-family: sans-serif; font-size: 11px; fill: rgb(0, 0, 0); fill-opacity: 1; white-space: pre;\">0.50</text></g><g class=\"xtick\"><text text-anchor=\"middle\" x=\"0\" y=\"439.56020888013995\" transform=\"translate(499.7455824271966,0)\" style=\"font-family: sans-serif; font-size: 11px; fill: rgb(0, 0, 0); fill-opacity: 1; white-space: pre;\">0.75</text></g><g class=\"xtick\"><text text-anchor=\"middle\" x=\"0\" y=\"439.56020888013995\" transform=\"translate(630.7655824271966,0)\" style=\"font-family: sans-serif; font-size: 11px; fill: rgb(0, 0, 0); fill-opacity: 1; white-space: pre;\">1.00</text></g></g><g class=\"yaxislayer-above\"><path class=\"ytick ticks crisp\" d=\"M90.96558242719661,0h5\" transform=\"translate(0,360.7388188976378)\" style=\"stroke: rgb(0, 0, 0); stroke-opacity: 1; stroke-width: 1px;\"/><path class=\"ytick ticks crisp\" d=\"M90.96558242719661,0h5\" transform=\"translate(0,293.1288188976378)\" style=\"stroke: rgb(0, 0, 0); stroke-opacity: 1; stroke-width: 1px;\"/><path class=\"ytick ticks crisp\" d=\"M90.96558242719661,0h5\" transform=\"translate(0,225.52881889763782)\" style=\"stroke: rgb(0, 0, 0); stroke-opacity: 1; stroke-width: 1px;\"/><path class=\"ytick ticks crisp\" d=\"M90.96558242719661,0h5\" transform=\"translate(0,157.9188188976378)\" style=\"stroke: rgb(0, 0, 0); stroke-opacity: 1; stroke-width: 1px;\"/><path class=\"ytick ticks crisp\" d=\"M90.96558242719661,0h5\" transform=\"translate(0,90.3088188976378)\" style=\"stroke: rgb(0, 0, 0); stroke-opacity: 1; stroke-width: 1px;\"/><g class=\"ytick\"><text text-anchor=\"end\" x=\"87.7655824271966\" y=\"3.8499999999999996\" transform=\"translate(0,360.7388188976378)\" style=\"font-family: sans-serif; font-size: 11px; fill: rgb(0, 0, 0); fill-opacity: 1; white-space: pre;\">0</text></g><g class=\"ytick\"><text text-anchor=\"end\" x=\"87.7655824271966\" y=\"3.8499999999999996\" transform=\"translate(0,293.1288188976378)\" style=\"font-family: sans-serif; font-size: 11px; fill: rgb(0, 0, 0); fill-opacity: 1; white-space: pre;\">100</text></g><g class=\"ytick\"><text text-anchor=\"end\" x=\"87.7655824271966\" y=\"3.8499999999999996\" transform=\"translate(0,225.52881889763782)\" style=\"font-family: sans-serif; font-size: 11px; fill: rgb(0, 0, 0); fill-opacity: 1; white-space: pre;\">200</text></g><g class=\"ytick\"><text text-anchor=\"end\" x=\"87.7655824271966\" y=\"3.8499999999999996\" transform=\"translate(0,157.9188188976378)\" style=\"font-family: sans-serif; font-size: 11px; fill: rgb(0, 0, 0); fill-opacity: 1; white-space: pre;\">300</text></g><g class=\"ytick\"><text text-anchor=\"end\" x=\"87.7655824271966\" y=\"3.8499999999999996\" transform=\"translate(0,90.3088188976378)\" style=\"font-family: sans-serif; font-size: 11px; fill: rgb(0, 0, 0); fill-opacity: 1; white-space: pre;\">400</text></g></g><g class=\"overaxes-above\"/></g></g><g class=\"polarlayer\"/><g class=\"ternarylayer\"/><g class=\"geolayer\"/><g class=\"funnelarealayer\"/><g class=\"pielayer\"/><g class=\"treemaplayer\"/><g class=\"sunburstlayer\"/><g class=\"glimages\"/><defs id=\"topdefs-8e3fb0\"><g class=\"clips\"/><clipPath id=\"legend8e3fb0\"><rect width=\"83\" height=\"29\" x=\"1\" y=\"1\"/></clipPath></defs><g class=\"layer-above\"><g class=\"imagelayer\"/><g class=\"shapelayer\"/></g><g class=\"infolayer\"><g class=\"legend\" pointer-events=\"all\" transform=\"translate(565,60)\"><rect class=\"bg\" shape-rendering=\"crispEdges\" width=\"84\" height=\"30\" x=\"0.5\" y=\"0.5\" style=\"stroke: rgb(0, 0, 0); stroke-opacity: 1; fill: rgb(255, 255, 255); fill-opacity: 1; stroke-width: 1px;\"/><g class=\"scrollbox\" transform=\"\" clip-path=\"url('#legend8e3fb0')\"><g class=\"groups\"><g class=\"traces\" transform=\"translate(1,15.5)\" style=\"opacity: 1;\"><text class=\"legendtext\" text-anchor=\"start\" x=\"40\" y=\"4.29\" style=\"font-family: sans-serif; font-size: 11px; fill: rgb(0, 0, 0); fill-opacity: 1; white-space: pre;\">Outflow</text><g class=\"layers\" style=\"opacity: 1;\"><g class=\"legendfill\"/><g class=\"legendlines\"><path class=\"js-line\" d=\"M5,0h30\" style=\"fill: none; stroke: rgb(0, 154, 250); stroke-opacity: 1; stroke-width: 1px;\"/></g><g class=\"legendsymbols\"><g class=\"legendpoints\"/></g></g><rect class=\"legendtoggle\" x=\"0\" y=\"-9.5\" width=\"77.359375\" height=\"19\" style=\"fill: rgb(0, 0, 0); fill-opacity: 0;\"/></g></g></g><rect class=\"scrollbar\" rx=\"20\" ry=\"3\" width=\"0\" height=\"0\" x=\"0\" y=\"0\" style=\"fill: rgb(128, 139, 164); fill-opacity: 1;\"/></g><g class=\"g-gtitle\"/><g class=\"g-xtitle\"><text class=\"xtitle\" x=\"368.72519841269843\" y=\"467.0625\" text-anchor=\"middle\" style=\"font-family: sans-serif; font-size: 15px; fill: rgb(0, 0, 0); opacity: 1; font-weight: normal; white-space: pre;\">t [s]</text></g><g class=\"g-ytitle\"><text class=\"ytitle\" transform=\"rotate(-90,43.90625,244.27951388888889)\" x=\"43.90625\" y=\"244.27951388888889\" text-anchor=\"middle\" style=\"font-family: sans-serif; font-size: 15px; fill: rgb(0, 0, 0); opacity: 1; font-weight: normal; white-space: pre;\">I [ml/s]</text></g></g></svg>"
      ]
     },
     "execution_count": 16,
     "metadata": {},
     "output_type": "execute_result"
    }
   ],
   "source": [
    "#| label: fig-igen\n",
    "#| fig-cap: 'Generic waveform, representing ejection of blood from left ventricle in the aorta, including dicrotic notch (backflow at valve closure).'\n",
    "\n",
    "plotTime = LinRange(0,1,100)\n",
    "\n",
    "plot(plotTime, I.(plotTime),\n",
    "     xlabel = \"t [s]\", ylabel = \"I [ml/s]\", label = \"Outflow\") "
   ]
  },
  {
   "cell_type": "markdown",
   "id": "86c88ceb",
   "metadata": {},
   "source": [
    "The definition of the ODEs @eq-wk4-1 and @eq-wk4-2 is done as a function with parameters `dP` and `P`, for $\\frac{d p_{1,2}}{d t}$, and $p_{1,2}$, respectively^[`P` is a vector of values, actually, as is `dP`.] \n"
   ]
  },
  {
   "cell_type": "code",
   "execution_count": 6,
   "id": "6320eb71",
   "metadata": {},
   "outputs": [
    {
     "data": {
      "text/plain": [
       "wk4 (generic function with 1 method)"
      ]
     },
     "execution_count": 17,
     "metadata": {},
     "output_type": "execute_result"
    }
   ],
   "source": [
    "#| output: false \n",
    "function wk4(dP, P, params, t)\n",
    "\n",
    "    Rc, Rp, C, Lp = params\n",
    "\n",
    "    dP[1] = (\n",
    "        -Rc / Lp * P[1]\n",
    "        + (Rc / Lp - 1 / Rp / C) * P[2]\n",
    "        + Rc * ForwardDiff.derivative(I, t)\n",
    "        + I(t) / C\n",
    "        )\n",
    "\n",
    "    dP[2] = -1 / Rp / C * P[2] + I(t) / C\n",
    "\n",
    "    return dP[1], dP[2]\n",
    "\n",
    "end"
   ]
  },
  {
   "cell_type": "markdown",
   "id": "8289b965",
   "metadata": {},
   "source": [
    "We define the parameters, initial conditions, and time span for the integration:\n"
   ]
  },
  {
   "cell_type": "code",
   "execution_count": 7,
   "id": "402931db",
   "metadata": {},
   "outputs": [
    {
     "data": {
      "text/plain": [
       "2-element Vector{Float64}:\n",
       " 0.0\n",
       " 0.0"
      ]
     },
     "execution_count": 18,
     "metadata": {},
     "output_type": "execute_result"
    }
   ],
   "source": [
    "Rc = 0.03\n",
    "Rp = 1.0\n",
    "C  = 2.0\n",
    "Lp = 0.02\n",
    "\n",
    "tspan = (0, 10)\n",
    "\n",
    "params = [Rc, Rp, C, Lp]\n",
    "\n",
    "P0 = zeros(2)"
   ]
  },
  {
   "cell_type": "markdown",
   "id": "2c2c48f2",
   "metadata": {},
   "source": [
    "And define the ODE problem and solve it^[We use the Dormand-Prince solver `DP5` here, because that is the same algorithm that Matlab's `ode45` uses. DifferentialEquations.jl has a multitude of other solvers that may perform better. Play around with these.]. We will time the run using the `@time` macro:\n"
   ]
  },
  {
   "cell_type": "code",
   "execution_count": 8,
   "id": "399da82e",
   "metadata": {},
   "outputs": [
    {
     "name": "stdout",
     "output_type": "stream",
     "text": [
      "  0.177039 seconds (249.28 k allocations: 16.316 MiB, 99.59% compilation time: 100% of which was recompilation)\n"
     ]
    }
   ],
   "source": [
    "prob = ODEProblem(wk4, P0, tspan, params)\n",
    "\n",
    "@time sol = solve(prob, DP5(), reltol=1e-9);"
   ]
  },
  {
   "cell_type": "markdown",
   "id": "f1e4fac5",
   "metadata": {},
   "source": [
    "Looking at this run time, we see that the run is slower than the Matlab run^[See below. What happened here? Doesn't everybody say how much faster Julia is than Matlab?]. Looking at the details of the benchmark times, we see that most of that time has been used on compilation. So when we re-run the solver, it should take less time:\n"
   ]
  },
  {
   "cell_type": "code",
   "execution_count": 9,
   "id": "ad643672",
   "metadata": {},
   "outputs": [
    {
     "name": "stdout",
     "output_type": "stream",
     "text": [
      "  0.000729 seconds (2.95 k allocations: 252.766 KiB)\n"
     ]
    }
   ],
   "source": [
    "@time sol = solve(prob, DP5(), reltol=1e-9);"
   ]
  },
  {
   "cell_type": "markdown",
   "id": "eb6c2a5e",
   "metadata": {},
   "source": [
    "And indeed, the run time is now one order of magnitude faster than the Matlab times shown in @sec-odePM.\n",
    "\n",
    "We can plot the solution in @fig-wk4-sol using the special plot recipe for ODE solutions:\n"
   ]
  },
  {
   "cell_type": "code",
   "execution_count": 10,
   "id": "fig-wk4-sol",
   "metadata": {},
   "outputs": [
    {
     "data": {
      "image/svg+xml": [
       "<svg class=\"main-svg\" xmlns=\"http://www.w3.org/2000/svg\" xmlns:xlink=\"http://www.w3.org/1999/xlink\" width=\"700\" height=\"500\" style=\"\" viewBox=\"0 0 700 500\"><rect x=\"0\" y=\"0\" width=\"700\" height=\"500\" style=\"fill: rgb(255, 255, 255); fill-opacity: 1;\"/><defs id=\"defs-861daf\"><g class=\"clips\"><clipPath id=\"clip861dafxyplot\" class=\"plotclip\"><rect width=\"555.5192319710036\" height=\"362.16138998250216\"/></clipPath><clipPath class=\"axesclip\" id=\"clip861dafx\"><rect x=\"90.96558242719661\" y=\"0\" width=\"555.5192319710036\" height=\"500\"/></clipPath><clipPath class=\"axesclip\" id=\"clip861dafy\"><rect x=\"0\" y=\"63.19881889763781\" width=\"700\" height=\"362.16138998250216\"/></clipPath><clipPath class=\"axesclip\" id=\"clip861dafxy\"><rect x=\"90.96558242719661\" y=\"63.19881889763781\" width=\"555.5192319710036\" height=\"362.16138998250216\"/></clipPath></g><g class=\"gradients\"/></defs><g class=\"bglayer\"/><g class=\"layer-below\"><g class=\"imagelayer\"/><g class=\"shapelayer\"/></g><g class=\"cartesianlayer\"><g class=\"subplot xy\"><g class=\"layer-subplot\"><g class=\"shapelayer\"/><g class=\"imagelayer\"/></g><g class=\"gridlayer\"><g class=\"x\"><path class=\"xgrid crisp\" transform=\"translate(229.8455824271966,0)\" d=\"M0,63.19881889763781v362.16138998250216\" style=\"stroke: rgb(0, 0, 0); stroke-opacity: 0.1; stroke-width: 0.5px;\"/><path class=\"xgrid crisp\" transform=\"translate(368.7255824271966,0)\" d=\"M0,63.19881889763781v362.16138998250216\" style=\"stroke: rgb(0, 0, 0); stroke-opacity: 0.1; stroke-width: 0.5px;\"/><path class=\"xgrid crisp\" transform=\"translate(507.6055824271966,0)\" d=\"M0,63.19881889763781v362.16138998250216\" style=\"stroke: rgb(0, 0, 0); stroke-opacity: 0.1; stroke-width: 0.5px;\"/></g><g class=\"y\"><path class=\"ygrid crisp\" transform=\"translate(0,382.0988188976378)\" d=\"M90.96558242719661,0h555.5192319710036\" style=\"stroke: rgb(0, 0, 0); stroke-opacity: 0.1; stroke-width: 0.5px;\"/><path class=\"ygrid crisp\" transform=\"translate(0,291.73881889763777)\" d=\"M90.96558242719661,0h555.5192319710036\" style=\"stroke: rgb(0, 0, 0); stroke-opacity: 0.1; stroke-width: 0.5px;\"/><path class=\"ygrid crisp\" transform=\"translate(0,201.3788188976378)\" d=\"M90.96558242719661,0h555.5192319710036\" style=\"stroke: rgb(0, 0, 0); stroke-opacity: 0.1; stroke-width: 0.5px;\"/><path class=\"ygrid crisp\" transform=\"translate(0,111.0288188976378)\" d=\"M90.96558242719661,0h555.5192319710036\" style=\"stroke: rgb(0, 0, 0); stroke-opacity: 0.1; stroke-width: 0.5px;\"/></g></g><g class=\"zerolinelayer\"/><path class=\"xlines-below\"/><path class=\"ylines-below\"/><g class=\"overlines-below\"/><g class=\"xaxislayer-below\"/><g class=\"yaxislayer-below\"/><g class=\"overaxes-below\"/><g class=\"plot\" transform=\"translate(90.96558242719661,63.19881889763781)\" clip-path=\"url('#clip861dafxyplot')\"><g class=\"scatterlayer mlayer\"><g class=\"trace scatter trace2ebe4b\" style=\"stroke-miterlimit: 2; opacity: 1;\"><g class=\"fills\"/><g class=\"errorbars\"/><g class=\"lines\"><path class=\"js-line\" d=\"M0,351.91L5.41,345.95L5.52,345.81L11.62,337.55L11.73,337.38L18.41,326.62L18.52,326.42L25.54,313.3L25.65,313.07L33.59,296.25L33.71,295.99L51.19,253.03L51.31,252.72L81.68,167.97L81.79,167.64L112.28,86.95L112.39,86.68L124.7,59.8L124.82,59.58L132.41,45.44L132.52,45.24L144.49,27.42L144.6,27.28L151.85,19.41L151.97,19.3L158.75,14.1L158.87,14.03L165.65,11.04L165.77,11.01L171.64,10.25L171.75,10.25L177.62,11.24L177.73,11.28L182.91,13.62L183.03,13.68L189.24,18.32L189.35,18.42L194.18,23.4L194.3,23.53L203.5,36.3L203.62,36.49L213.63,55.13L213.74,55.38L220.18,69.9L220.3,70.18L231,98.39L231.11,98.72L239.97,122.99L240.08,123.08L294.96,165.08L295.07,165.16L378.71,227L378.82,227.08L417.47,254.72L417.59,254.8L442.78,272.49L442.9,272.57L510.54,318.72L510.65,318.79L537.8,336.77L537.92,336.84L555.52,348.32\" style=\"vector-effect: non-scaling-stroke; fill: none; stroke: rgb(0, 154, 250); stroke-opacity: 1; stroke-width: 1px; opacity: 1;\"/></g><g class=\"points\"/><g class=\"text\"/></g><g class=\"trace scatter trace814d01\" style=\"stroke-miterlimit: 2; opacity: 1;\"><g class=\"fills\"/><g class=\"errorbars\"/><g class=\"lines\"><path class=\"js-line\" d=\"M0,320.31L5.98,323.8L6.1,323.85L11.73,325.5L11.85,325.51L16.91,325.66L17.03,325.64L22.43,324.43L22.55,324.39L29.22,321L29.33,320.92L35.55,315.97L35.66,315.86L42.22,308.84L42.33,308.71L49.12,299.64L49.24,299.47L60.4,280.96L60.51,280.75L67.99,266.16L68.1,265.92L77.77,244.91L77.88,244.65L86.85,223.43L86.97,223.15L137.24,97.05L137.36,96.79L147.59,74.5L147.71,74.26L157.49,55.53L157.6,55.33L169.8,36.27L169.91,36.12L180.15,24.4L180.26,24.3L187.51,18.63L187.63,18.56L194.18,15.44L194.3,15.4L200.51,14.28L200.63,14.27L206.95,15.01L207.07,15.04L212.48,17.2L212.59,17.26L219.15,21.8L219.26,21.9L225.13,27.75L225.24,27.88L230.88,35.07L231,35.23L241.24,50.14L241.35,50.25L262.52,70.67L262.63,70.78L358.34,158.38L358.46,158.48L417.7,209.04L417.82,209.13L439.1,226.65L439.22,226.74L477.98,257.79L478.1,257.88L536.42,302.59L536.54,302.67L555.52,316.72\" style=\"vector-effect: non-scaling-stroke; fill: none; stroke: rgb(227, 111, 71); stroke-opacity: 1; stroke-width: 1px; opacity: 1;\"/></g><g class=\"points\"/><g class=\"text\"/></g></g></g><g class=\"overplot\"/><path class=\"xlines-above crisp\" d=\"M89.96558242719661,425.86020888013996H646.4848143982002\" style=\"fill: none; stroke-width: 1px; stroke: rgb(0, 0, 0); stroke-opacity: 1;\"/><path class=\"ylines-above crisp\" d=\"M90.46558242719661,63.19881889763781V425.36020888013996\" style=\"fill: none; stroke-width: 1px; stroke: rgb(0, 0, 0); stroke-opacity: 1;\"/><g class=\"overlines-above\"/><g class=\"xaxislayer-above\"><path class=\"xtick ticks crisp\" d=\"M0,425.36020888013996v-5\" transform=\"translate(229.8455824271966,0)\" style=\"stroke: rgb(0, 0, 0); stroke-opacity: 1; stroke-width: 1px;\"/><path class=\"xtick ticks crisp\" d=\"M0,425.36020888013996v-5\" transform=\"translate(368.7255824271966,0)\" style=\"stroke: rgb(0, 0, 0); stroke-opacity: 1; stroke-width: 1px;\"/><path class=\"xtick ticks crisp\" d=\"M0,425.36020888013996v-5\" transform=\"translate(507.6055824271966,0)\" style=\"stroke: rgb(0, 0, 0); stroke-opacity: 1; stroke-width: 1px;\"/><g class=\"xtick\"><text text-anchor=\"middle\" x=\"0\" y=\"439.56020888013995\" transform=\"translate(90.96558242719661,0)\" style=\"font-family: sans-serif; font-size: 11px; fill: rgb(0, 0, 0); fill-opacity: 1; white-space: pre;\">9.00</text></g><g class=\"xtick\"><text text-anchor=\"middle\" x=\"0\" y=\"439.56020888013995\" transform=\"translate(229.8455824271966,0)\" style=\"font-family: sans-serif; font-size: 11px; fill: rgb(0, 0, 0); fill-opacity: 1; white-space: pre;\">9.25</text></g><g class=\"xtick\"><text text-anchor=\"middle\" x=\"0\" y=\"439.56020888013995\" transform=\"translate(368.7255824271966,0)\" style=\"font-family: sans-serif; font-size: 11px; fill: rgb(0, 0, 0); fill-opacity: 1; white-space: pre;\">9.50</text></g><g class=\"xtick\"><text text-anchor=\"middle\" x=\"0\" y=\"439.56020888013995\" transform=\"translate(507.6055824271966,0)\" style=\"font-family: sans-serif; font-size: 11px; fill: rgb(0, 0, 0); fill-opacity: 1; white-space: pre;\">9.75</text></g><g class=\"xtick\"><text text-anchor=\"middle\" x=\"0\" y=\"439.56020888013995\" transform=\"translate(646.4855824271966,0)\" style=\"font-family: sans-serif; font-size: 11px; fill: rgb(0, 0, 0); fill-opacity: 1; white-space: pre;\">10.00</text></g></g><g class=\"yaxislayer-above\"><path class=\"ytick ticks crisp\" d=\"M90.96558242719661,0h5\" transform=\"translate(0,382.0988188976378)\" style=\"stroke: rgb(0, 0, 0); stroke-opacity: 1; stroke-width: 1px;\"/><path class=\"ytick ticks crisp\" d=\"M90.96558242719661,0h5\" transform=\"translate(0,291.73881889763777)\" style=\"stroke: rgb(0, 0, 0); stroke-opacity: 1; stroke-width: 1px;\"/><path class=\"ytick ticks crisp\" d=\"M90.96558242719661,0h5\" transform=\"translate(0,201.3788188976378)\" style=\"stroke: rgb(0, 0, 0); stroke-opacity: 1; stroke-width: 1px;\"/><path class=\"ytick ticks crisp\" d=\"M90.96558242719661,0h5\" transform=\"translate(0,111.0288188976378)\" style=\"stroke: rgb(0, 0, 0); stroke-opacity: 1; stroke-width: 1px;\"/><g class=\"ytick\"><text text-anchor=\"end\" x=\"87.7655824271966\" y=\"3.8499999999999996\" transform=\"translate(0,382.0988188976378)\" style=\"font-family: sans-serif; font-size: 11px; fill: rgb(0, 0, 0); fill-opacity: 1; white-space: pre;\">90</text></g><g class=\"ytick\"><text text-anchor=\"end\" x=\"87.7655824271966\" y=\"3.8499999999999996\" transform=\"translate(0,291.73881889763777)\" style=\"font-family: sans-serif; font-size: 11px; fill: rgb(0, 0, 0); fill-opacity: 1; white-space: pre;\">100</text></g><g class=\"ytick\"><text text-anchor=\"end\" x=\"87.7655824271966\" y=\"3.8499999999999996\" transform=\"translate(0,201.3788188976378)\" style=\"font-family: sans-serif; font-size: 11px; fill: rgb(0, 0, 0); fill-opacity: 1; white-space: pre;\">110</text></g><g class=\"ytick\"><text text-anchor=\"end\" x=\"87.7655824271966\" y=\"3.8499999999999996\" transform=\"translate(0,111.0288188976378)\" style=\"font-family: sans-serif; font-size: 11px; fill: rgb(0, 0, 0); fill-opacity: 1; white-space: pre;\">120</text></g></g><g class=\"overaxes-above\"/></g></g><g class=\"polarlayer\"/><g class=\"ternarylayer\"/><g class=\"geolayer\"/><g class=\"funnelarealayer\"/><g class=\"pielayer\"/><g class=\"treemaplayer\"/><g class=\"sunburstlayer\"/><g class=\"glimages\"/><defs id=\"topdefs-861daf\"><g class=\"clips\"/><clipPath id=\"legend861daf\"><rect width=\"58\" height=\"48\" x=\"1\" y=\"1\"/></clipPath></defs><g class=\"layer-above\"><g class=\"imagelayer\"/><g class=\"shapelayer\"/></g><g class=\"infolayer\"><g class=\"legend\" pointer-events=\"all\" transform=\"translate(590,60)\"><rect class=\"bg\" shape-rendering=\"crispEdges\" width=\"59\" height=\"49\" x=\"0.5\" y=\"0.5\" style=\"stroke: rgb(0, 0, 0); stroke-opacity: 1; fill: rgb(255, 255, 255); fill-opacity: 1; stroke-width: 1px;\"/><g class=\"scrollbox\" transform=\"\" clip-path=\"url('#legend861daf')\"><g class=\"groups\"><g class=\"traces\" transform=\"translate(1,15.5)\" style=\"opacity: 1;\"><text class=\"legendtext\" text-anchor=\"start\" x=\"40\" y=\"4.29\" style=\"font-family: sans-serif; font-size: 11px; fill: rgb(0, 0, 0); fill-opacity: 1; white-space: pre;\">p1</text><g class=\"layers\" style=\"opacity: 1;\"><g class=\"legendfill\"/><g class=\"legendlines\"><path class=\"js-line\" d=\"M5,0h30\" style=\"fill: none; stroke: rgb(0, 154, 250); stroke-opacity: 1; stroke-width: 1px;\"/></g><g class=\"legendsymbols\"><g class=\"legendpoints\"/></g></g><rect class=\"legendtoggle\" x=\"0\" y=\"-9.5\" width=\"52.25\" height=\"19\" style=\"fill: rgb(0, 0, 0); fill-opacity: 0;\"/></g><g class=\"traces\" transform=\"translate(1,34.5)\" style=\"opacity: 1;\"><text class=\"legendtext\" text-anchor=\"start\" x=\"40\" y=\"4.29\" style=\"font-family: sans-serif; font-size: 11px; fill: rgb(0, 0, 0); fill-opacity: 1; white-space: pre;\">p2</text><g class=\"layers\" style=\"opacity: 1;\"><g class=\"legendfill\"/><g class=\"legendlines\"><path class=\"js-line\" d=\"M5,0h30\" style=\"fill: none; stroke: rgb(227, 111, 71); stroke-opacity: 1; stroke-width: 1px;\"/></g><g class=\"legendsymbols\"><g class=\"legendpoints\"/></g></g><rect class=\"legendtoggle\" x=\"0\" y=\"-9.5\" width=\"52.25\" height=\"19\" style=\"fill: rgb(0, 0, 0); fill-opacity: 0;\"/></g></g></g><rect class=\"scrollbar\" rx=\"20\" ry=\"3\" width=\"0\" height=\"0\" x=\"0\" y=\"0\" style=\"fill: rgb(128, 139, 164); fill-opacity: 1;\"/></g><g class=\"g-gtitle\"/><g class=\"g-xtitle\"><text class=\"xtitle\" x=\"368.72519841269843\" y=\"467.0625\" text-anchor=\"middle\" style=\"font-family: sans-serif; font-size: 15px; fill: rgb(0, 0, 0); opacity: 1; font-weight: normal; white-space: pre;\">t [s]</text></g><g class=\"g-ytitle\"><text class=\"ytitle\" transform=\"rotate(-90,43.90625,244.27951388888889)\" x=\"43.90625\" y=\"244.27951388888889\" text-anchor=\"middle\" style=\"font-family: sans-serif; font-size: 15px; fill: rgb(0, 0, 0); opacity: 1; font-weight: normal; white-space: pre;\">p [mmHg]</text></g></g></svg>"
      ]
     },
     "execution_count": 21,
     "metadata": {},
     "output_type": "execute_result"
    }
   ],
   "source": [
    "#| label: fig-wk4-sol\n",
    "#| fig-cap: Solution of 4-element windkessel model using Julia's DifferentialEquations.jl\n",
    "plot(sol,\n",
    "     label = [\"p1\" \"p2\"],\n",
    "     xlabel = \"t [s]\",\n",
    "     ylabel = \"p [mmHg]\",\n",
    "     tspan=(9,10))"
   ]
  },
  {
   "cell_type": "markdown",
   "id": "b5dacee3",
   "metadata": {},
   "source": [
    "### Comparison to Python and Matlab {#sec-odePM}\n",
    "\n",
    "For those coming from Python or Matlab, let's have a look at how this problem can be solved in these two languages and compare to the Julia version.\n",
    "\n",
    "Switch between the languages using the tabs below:\n",
    "\n",
    "::: {.panel-tabset}\n",
    "### Python\n",
    "\n",
    "\n",
    "```python\n",
    "import scipy as sp\n",
    "from scipy import integrate\n",
    "from scipy.misc import derivative\n",
    "\n",
    "import numpy as np\n",
    "\n",
    "import time\n",
    "\n",
    "def wk4(t, y, I, Rc, Rp, C, Lp, dt):\n",
    "\n",
    "    dp1dt = (\n",
    "        -Rc / Lp * y[0]\n",
    "        + (Rc / Lp - 1 / Rp / C) * y[1]\n",
    "        + Rc * derivative(I, t, dx=dt)\n",
    "        + I(t) / C\n",
    "    )\n",
    "\n",
    "    dp2dt = -1 / Rp / C * y[1] + I(t) / C\n",
    "\n",
    "    return [dp1dt, dp2dt]\n",
    "\n",
    "time_start = 0\n",
    "time_end = 10\n",
    "\n",
    "Rc = 0.2\n",
    "Rp = 1.0\n",
    "C = 1.0\n",
    "Lp = 1e-2\n",
    "\n",
    "dt = 1e-6\n",
    "\n",
    "y0 = np.zeros(2)\n",
    "\n",
    "# Generic Input Waveform\n",
    "# max volume flow in ml/s\n",
    "max_i = 425\n",
    "\n",
    "# min volume flow in m^3/s\n",
    "min_i = 0.0\n",
    "\n",
    "# Period time in s\n",
    "T = 0.9\n",
    "\n",
    "# Syst. Time in s\n",
    "systTime = 2 / 5 * T\n",
    "\n",
    "# Dicrotic notch time\n",
    "dicrTime = 0.03\n",
    "\n",
    "def I(t):\n",
    "    # implicit conditional using boolean multiplicator\n",
    "    # sine waveform\n",
    "    I = (\n",
    "        (max_i - min_i) * np.sin(np.pi / systTime * (t % T))\n",
    "        *(t % T < (systTime + dicrTime)) + min_i\n",
    "    )\n",
    "\n",
    "    return I\n",
    "\n",
    "tic = time.perf_counter()\n",
    "\n",
    "sol = sp.integrate.solve_ivp(\n",
    "    lambda t, y: wk4(t, y, I, Rc, Rp, C, Lp, dt),\n",
    "    (time_start, time_end),\n",
    "    y0,\n",
    "    method=\"RK45\",\n",
    "    rtol=1e-9,\n",
    "    vectorized=True,) \n",
    "\n",
    "toc = time.perf_counter()\n",
    "\n",
    "print(f\"Time elapsed: {toc - tic:0.4f} seconds\")\n",
    "```\n",
    "\n",
    "Runtime for this code is (timed using `%%time` in Jupyter):\n",
    "\n",
    "```python\n",
    "Time elapsed: 0.7872 seconds\n",
    "```\n",
    "\n",
    "### MATLAB\n",
    "\n",
    "```octave\n",
    "function dP = RHS_defn(t,P,Rc,Rp,C,Lp)\n",
    "\n",
    "dP    = zeros(2,1);\n",
    "\n",
    "dP(1) = -Rc / Lp * P(1) ...\n",
    "        + (Rc / Lp - 1 / Rp / C) * P(2) ...\n",
    "        + Rc * didt(t) + i(t) / C;\n",
    "\n",
    "dP(2) = -1 / Rp / C * P(2) + i(t) / C;\n",
    "\n",
    "end\n",
    "\n",
    "function didt = didt(i, t)\n",
    "dt = 1e-3;\n",
    "didt = (i(t+dt) - i(t-dt)) / (2 * dt);\n",
    "end\n",
    "\n",
    "function i = i(t)\n",
    "\n",
    "max_i = 425;\n",
    "min_i = 0.0;\n",
    "T = 0.9;\n",
    "\n",
    "systTime = 2 / 5 * T;\n",
    "dicrTime = 0.03;\n",
    "\n",
    "i = ((max_i - min_i) * sin(pi / systTime * (mod(t,T))) ...\n",
    "     *(mod(t,T) < (systTime + dicrTime)) ...\n",
    "     + min_i);\n",
    "end\n",
    "\n",
    "Rc = 0.03\n",
    "Rp = 1.0\n",
    "C  = 2.0\n",
    "Lp = 0.02\n",
    "\n",
    "options = odeset('Reltol',1e-9);\n",
    "\n",
    "tic\n",
    "[t, P] = ode45(@(t,P) RHS_defn(t,P,Rc,Rp,C,Ls,Lp), tspan, P0, options);\n",
    "toc\n",
    "```\n",
    "\n",
    "Runtime for this code is (timed using `tic` `toc` in Matlab)^[Same code in Octave, the free open-source version of Matlab runs in 3 seconds. Current versions of Matlab have improved runtime by partial just-in-time compilation. Note that the first run in Matlab is also slightly longer with 0.035 seconds, which is most likely due to Matlab optimising the solver to the problem.], which is a bit more than an order of magnitude slower than Julia:\n",
    "\n",
    "```octave\n",
    "Elapsed time is 0.018172 seconds.\n",
    "```\n",
    ":::\n",
    "\n",
    "So in this case, Julia is one order of magitude faster than Matlab and around 500x faster than Python^[I have tried using PyPy and Cython in other cases and found that they speed up Python considerably. Unfortunately this was not the case when using SciPy and Numpy, which made the compiled Python version one order of magnitude **slower** than interpreted. There seems to be a problem with C-calls from PyPy.] solving ODEs.\n",
    "\n",
    "Personally, I find the Matlab code and, in particular, the Julia code easier to read.\n"
   ]
  }
 ],
 "metadata": {
  "kernelspec": {
   "display_name": "Julia 1.9.0-beta4",
   "language": "julia",
   "name": "julia-1.9"
  }
 },
 "nbformat": 4,
 "nbformat_minor": 5
}
