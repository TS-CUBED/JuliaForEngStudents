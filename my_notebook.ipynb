{
 "cells": [
  {
   "cell_type": "markdown",
   "id": "dfe223cc",
   "metadata": {},
   "source": [
    "# My notebook"
   ]
  },
  {
   "cell_type": "markdown",
   "id": "b31d3194",
   "metadata": {},
   "source": [
    "Just a test for the plotting functions.\n",
    "\n",
    "<div>"
   ]
  },
  {
   "cell_type": "code",
   "execution_count": null,
   "id": "0ebc8f17",
   "metadata": {},
   "outputs": [],
   "source": [
    "using Plots\n",
    "plotlyjs()\n",
    "\n",
    "plot(rand(4,3))"
   ]
  },
  {
   "cell_type": "markdown",
   "id": "6abeb3bd",
   "metadata": {},
   "source": [
    "<div>\n",
    "\n",
    "    WebIO._IJuliaInit()\n",
    "\n",
    "Some Plots\n",
    "\n",
    "</div>\n",
    "\n",
    "<div class=\"cell-output cell-output-display\" execution_count=\"2\">\n",
    "\n",
    "<div>\n",
    "\n",
    "<embed src=\"intro_files/figure-pdf/fig-someplots-output-2.pdf\"\n",
    "id=\"fig-someplots-2\" data-fig-pos=\"H\" data-ref-parent=\"fig-someplots\" />\n",
    "\n",
    "**?(caption)**\n",
    "\n",
    "</div>\n",
    "\n",
    "</div>\n",
    "\n",
    "**?(caption)**\n",
    "\n",
    "</div>"
   ]
  }
 ],
 "metadata": {
  "jupytext": {
   "cell_metadata_filter": "-all",
   "main_language": "julia",
   "notebook_metadata_filter": "-all"
  }
 },
 "nbformat": 4,
 "nbformat_minor": 5
}