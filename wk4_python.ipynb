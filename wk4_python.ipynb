{
 "cells": [
  {
   "cell_type": "code",
   "execution_count": 1,
   "id": "51eade11",
   "metadata": {},
   "outputs": [],
   "source": [
    "import scipy as sp\n",
    "from scipy import integrate\n",
    "from scipy.misc import derivative\n",
    "\n",
    "import numpy as np"
   ]
  },
  {
   "cell_type": "code",
   "execution_count": 2,
   "id": "7cabf939",
   "metadata": {},
   "outputs": [],
   "source": [
    "def wk4(t, y, I, Rc, Rp, C, Lp, dt):\n",
    "\n",
    "    dp1dt = (\n",
    "        -Rc / Lp * y[0]\n",
    "        + (Rc / Lp - 1 / Rp / C) * y[1]\n",
    "        + Rc * derivative(I, t, dx=dt)\n",
    "        + I(t) / C\n",
    "    )\n",
    "\n",
    "    dp2dt = -1 / Rp / C * y[1] + I(t) / C\n",
    "\n",
    "    return [dp1dt, dp2dt]"
   ]
  },
  {
   "cell_type": "code",
   "execution_count": 3,
   "id": "f90b1d38",
   "metadata": {},
   "outputs": [],
   "source": [
    "time_start = 0\n",
    "time_end = 10\n",
    "\n",
    "Rc = 0.2\n",
    "Rp = 1.0\n",
    "C = 1.0\n",
    "Lp = 1e-2\n",
    "\n",
    "dt = 1e-6\n",
    "\n",
    "y0 = np.zeros(2)"
   ]
  },
  {
   "cell_type": "code",
   "execution_count": 4,
   "id": "ac3b4aec",
   "metadata": {},
   "outputs": [],
   "source": [
    "# Generic Input Waveform\n",
    "# max volume flow in ml/s\n",
    "max_i = 425\n",
    "\n",
    "# min volume flow in m^3/s\n",
    "min_i = 0.0\n",
    "\n",
    "# Period time in s\n",
    "T = 0.9\n",
    "\n",
    "# Syst. Time in s\n",
    "systTime = 2 / 5 * T\n",
    "\n",
    "# Dicrotic notch time\n",
    "dicrTime = 0.03\n",
    "\n",
    "def I(t):\n",
    "    # implicit conditional using boolean multiplicator\n",
    "    # sine waveform\n",
    "    I = (\n",
    "        (max_i - min_i) * np.sin(np.pi / systTime * (t % T))\n",
    "        *(t % T < (systTime + dicrTime)) + min_i\n",
    "    )\n",
    "\n",
    "    return I"
   ]
  },
  {
   "cell_type": "code",
   "execution_count": 5,
   "id": "eb241272",
   "metadata": {},
   "outputs": [
    {
     "name": "stdout",
     "output_type": "stream",
     "text": [
      "CPU times: user 815 ms, sys: 1.39 ms, total: 816 ms\n",
      "Wall time: 815 ms\n"
     ]
    }
   ],
   "source": [
    "%%time\n",
    "\n",
    "sol = sp.integrate.solve_ivp(\n",
    "    lambda t, y: wk4(t, y, I, Rc, Rp, C, Lp, dt),\n",
    "    (time_start, time_end),\n",
    "    y0,\n",
    "    method=\"RK45\",\n",
    "    rtol=1e-9,\n",
    "    vectorized=True,)"
   ]
  },
  {
   "cell_type": "code",
   "execution_count": null,
   "id": "9874012b",
   "metadata": {},
   "outputs": [],
   "source": [
    "\n",
    "\n",
    "\n",
    "\n"
   ]
  },
  {
   "cell_type": "code",
   "execution_count": null,
   "id": "58ac37dd",
   "metadata": {},
   "outputs": [],
   "source": []
  }
 ],
 "metadata": {
  "@webio": {
   "lastCommId": null,
   "lastKernelId": null
  },
  "kernelspec": {
   "display_name": "Python 3 (ipykernel)",
   "language": "python",
   "name": "python3"
  },
  "language_info": {
   "codemirror_mode": {
    "name": "ipython",
    "version": 3
   },
   "file_extension": ".py",
   "mimetype": "text/x-python",
   "name": "python",
   "nbconvert_exporter": "python",
   "pygments_lexer": "ipython3",
   "version": "3.10.6"
  }
 },
 "nbformat": 4,
 "nbformat_minor": 5
}
